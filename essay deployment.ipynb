{
 "cells": [
  {
   "cell_type": "code",
   "execution_count": 1,
   "id": "1736b420",
   "metadata": {},
   "outputs": [],
   "source": [
    "import streamlit as st\n",
    "import pandas as pd "
   ]
  },
  {
   "cell_type": "code",
   "execution_count": 2,
   "id": "3e9a6fdb",
   "metadata": {},
   "outputs": [
    {
     "name": "stderr",
     "output_type": "stream",
     "text": [
      "2024-03-23 01:06:43.158 \n",
      "  \u001b[33m\u001b[1mWarning:\u001b[0m to view this Streamlit app on a browser, run it with the following\n",
      "  command:\n",
      "\n",
      "    streamlit run C:\\Users\\public\\anaconda3\\Lib\\site-packages\\ipykernel_launcher.py [ARGUMENTS]\n"
     ]
    }
   ],
   "source": [
    "# give a title to our app \n",
    "st.title('Welcome to AR app') \n",
    "st.write (\"\"\"\n",
    "This app predict **The Student's Academic** Results!\"\"\")"
   ]
  },
  {
   "cell_type": "code",
   "execution_count": 3,
   "id": "ae577042",
   "metadata": {},
   "outputs": [],
   "source": [
    "st.sidebar.header('Student Input Parameters ')\n",
    "\n",
    "def user_input_features():\n",
    "    first_period_grade=st.sidebar.slider('1st grade',0,20,10)\n",
    "    second_period_grade=st.sidebar.slider('2nd grade',0,20,10)\n",
    "    data={'1st grade':first_period_grade,\n",
    "         '2nd grade':second_period_grade}\n",
    "    features=pd.DataFrame(data,index=[0])\n",
    "df=user_input_features()\n",
    "\n",
    "st.subheader('Student input parameters')\n",
    "st.write(df)"
   ]
  },
  {
   "cell_type": "markdown",
   "id": "2e694d58",
   "metadata": {},
   "source": [
    "# Create a radio button"
   ]
  },
  {
   "cell_type": "code",
   "execution_count": 4,
   "id": "3d7df264",
   "metadata": {},
   "outputs": [],
   "source": [
    "status = st.radio(\"Select Parent status: \", ('Together', 'seperated'))\n",
    "# show the result using the success function\n",
    "if (status == 'Together'):\n",
    " st.success(\"Together\")\n",
    "else:\n",
    " st.success(\"seperated\")\n"
   ]
  },
  {
   "cell_type": "code",
   "execution_count": 5,
   "id": "d56fd751",
   "metadata": {},
   "outputs": [],
   "source": [
    "status = st.radio(\"Select Romantic situation: \", ('Taken', 'Single'))\n",
    "# show the result using the success function\n",
    "if (status == 'Taken'):\n",
    " st.success(\"Taken\")\n",
    "else:\n",
    " st.success(\"Single\")\n"
   ]
  },
  {
   "cell_type": "markdown",
   "id": "0a259880",
   "metadata": {},
   "source": [
    "# Create a selection box"
   ]
  },
  {
   "cell_type": "code",
   "execution_count": 7,
   "id": "f983d547",
   "metadata": {},
   "outputs": [],
   "source": [
    "alc = st.selectbox(\"ALcohol consuming : \",\n",
    "['Weekend', 'Workday', '1 or 2 times per week'])\n",
    "# print the selected hobby :\n",
    "st.write(\"Your Alcohol consuming is: \", alc)"
   ]
  },
  {
   "cell_type": "code",
   "execution_count": null,
   "id": "8e269f56",
   "metadata": {},
   "outputs": [],
   "source": []
  }
 ],
 "metadata": {
  "kernelspec": {
   "display_name": "Python 3 (ipykernel)",
   "language": "python",
   "name": "python3"
  },
  "language_info": {
   "codemirror_mode": {
    "name": "ipython",
    "version": 3
   },
   "file_extension": ".py",
   "mimetype": "text/x-python",
   "name": "python",
   "nbconvert_exporter": "python",
   "pygments_lexer": "ipython3",
   "version": "3.11.5"
  }
 },
 "nbformat": 4,
 "nbformat_minor": 5
}
