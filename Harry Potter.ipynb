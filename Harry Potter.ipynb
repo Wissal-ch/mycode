{
 "cells": [
  {
   "cell_type": "code",
   "execution_count": 8,
   "id": "67f25ca5",
   "metadata": {},
   "outputs": [
    {
     "name": "stderr",
     "output_type": "stream",
     "text": [
      "[nltk_data] Downloading package stopwords to\n",
      "[nltk_data]     C:\\Users\\hajer\\AppData\\Roaming\\nltk_data...\n",
      "[nltk_data]   Package stopwords is already up-to-date!\n",
      "[nltk_data] Downloading package punkt to\n",
      "[nltk_data]     C:\\Users\\hajer\\AppData\\Roaming\\nltk_data...\n",
      "[nltk_data]   Package punkt is already up-to-date!\n",
      "[nltk_data] Downloading package averaged_perceptron_tagger to\n",
      "[nltk_data]     C:\\Users\\hajer\\AppData\\Roaming\\nltk_data...\n",
      "[nltk_data]   Package averaged_perceptron_tagger is already up-to-\n",
      "[nltk_data]       date!\n"
     ]
    }
   ],
   "source": [
    "import nltk\n",
    "from nltk.corpus import wordnet\n",
    "nltk.download('stopwords')\n",
    "nltk.download('punkt')\n",
    "nltk.download('averaged_perceptron_tagger')\n",
    "from nltk.tokenize import word_tokenize, sent_tokenize\n",
    "from nltk.corpus import stopwords\n",
    "from nltk.stem import WordNetLemmatizer\n",
    "import string\n",
    "import streamlit as st"
   ]
  },
  {
   "cell_type": "code",
   "execution_count": 9,
   "id": "1d95520d",
   "metadata": {},
   "outputs": [],
   "source": [
    "# Load the text file and preprocess the data\n",
    "with open('C:/Users/hajer/Desktop/Harry Potter.txt', 'r', encoding='utf-8') as f:\n",
    "    data = f.read().replace('\\n', ' ')"
   ]
  },
  {
   "cell_type": "code",
   "execution_count": 10,
   "id": "9134d6b7",
   "metadata": {},
   "outputs": [],
   "source": [
    "# Tokenize the text into sentences\n",
    "sentences = sent_tokenize(data)"
   ]
  },
  {
   "cell_type": "code",
   "execution_count": 11,
   "id": "71ad8679",
   "metadata": {},
   "outputs": [],
   "source": [
    "# Define a function to preprocess each sentence\n",
    "def preprocess(sentence):\n",
    "    # Tokenize the sentence into words\n",
    "    words = word_tokenize(sentence)\n",
    "    # Remove stopwords and punctuation\n",
    "    words = [word.lower() for word in words if word.lower() not in stopwords.words('english') and word not in string.punctuation]\n",
    "    # Lemmatize the words\n",
    "    lemmatizer = WordNetLemmatizer()\n",
    "    words = [lemmatizer.lemmatize(word) for word in words]\n",
    "    return words\n",
    "\n",
    "# Preprocess each sentence in the text\n",
    "corpus = [preprocess(sentence) for sentence in sentences]"
   ]
  },
  {
   "cell_type": "code",
   "execution_count": 12,
   "id": "466a5f67",
   "metadata": {},
   "outputs": [],
   "source": [
    "# Define a function to find the most relevant sentence given a query\n",
    "def get_most_relevant_sentence(query):\n",
    "    # Preprocess the query\n",
    "    query = preprocess(query)\n",
    "    # Compute the similarity between the query and each sentence in the text\n",
    "    max_similarity = 0\n",
    "    most_relevant_sentence = \"\"\n",
    "    for sentence in corpus:\n",
    "        similarity = len(set(query).intersection(sentence)) / float(len(set(query).union(sentence)))\n",
    "        if similarity > max_similarity:\n",
    "            max_similarity = similarity\n",
    "            most_relevant_sentence = \" \".join(sentence)\n",
    "    return most_relevant_sentence\n"
   ]
  },
  {
   "cell_type": "code",
   "execution_count": 13,
   "id": "a68aa2d5",
   "metadata": {},
   "outputs": [],
   "source": [
    "def chatbot(question):\n",
    "    # Find the most relevant sentence\n",
    "    most_relevant_sentence = get_most_relevant_sentence(question)\n",
    "    # Return the answer\n",
    "    return most_relevant_sentence"
   ]
  },
  {
   "cell_type": "code",
   "execution_count": 14,
   "id": "111e464b",
   "metadata": {},
   "outputs": [],
   "source": [
    "# Create a Streamlit app\n",
    "def main():\n",
    "    st.title(\"Chatbot\")\n",
    "    st.write(\"Hello! I'm here to give a hand ^^! Ask me anything about the topic in the text file.\")\n",
    "    # Get the user's question\n",
    "    question = st.text_input(\"You:\")\n",
    "    # Create a button to submit the question\n",
    "    if st.button(\"Submit\"):\n",
    "        # Call the chatbot function with the question and display the response\n",
    "        response = chatbot(question)\n",
    "        st.write(\"Chatbot: \" + response)\n",
    "if __name__ == \"__main__\":\n",
    "    main()"
   ]
  },
  {
   "cell_type": "code",
   "execution_count": null,
   "id": "736aa7ea",
   "metadata": {},
   "outputs": [],
   "source": []
  }
 ],
 "metadata": {
  "kernelspec": {
   "display_name": "Python 3 (ipykernel)",
   "language": "python",
   "name": "python3"
  },
  "language_info": {
   "codemirror_mode": {
    "name": "ipython",
    "version": 3
   },
   "file_extension": ".py",
   "mimetype": "text/x-python",
   "name": "python",
   "nbconvert_exporter": "python",
   "pygments_lexer": "ipython3",
   "version": "3.11.5"
  }
 },
 "nbformat": 4,
 "nbformat_minor": 5
}
